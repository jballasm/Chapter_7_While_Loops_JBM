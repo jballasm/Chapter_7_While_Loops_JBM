{
 "cells": [
  {
   "cell_type": "markdown",
   "metadata": {},
   "source": [
    "# While Loop\n",
    "* The for loop takes a collection of items and executes a block of code once for each item in the collection. \n",
    "* In contrast, the while loop runs as long as, or while, a certain condition is true."
   ]
  },
  {
   "cell_type": "markdown",
   "metadata": {},
   "source": [
    "## The while Loop in Action\n",
    "You can use a while loop to count up through a series of numbers. For\n",
    "example, the following while loop counts from 1 to 5:\n"
   ]
  },
  {
   "cell_type": "code",
   "execution_count": 1,
   "metadata": {},
   "outputs": [
    {
     "name": "stdout",
     "output_type": "stream",
     "text": [
      "1\n",
      "2\n",
      "3\n",
      "4\n",
      "5\n"
     ]
    }
   ],
   "source": [
    "#for loop to print number 1 to 5\n",
    "for i in range (1,6):\n",
    "    print(i)"
   ]
  },
  {
   "cell_type": "code",
   "execution_count": 2,
   "metadata": {},
   "outputs": [
    {
     "name": "stdout",
     "output_type": "stream",
     "text": [
      "1\n",
      "2\n",
      "3\n",
      "4\n",
      "5\n"
     ]
    }
   ],
   "source": [
    "#initialize\n",
    "j=1\n",
    "#condition check\n",
    "while j<=5:\n",
    "    print(j)\n",
    "    j=j+1"
   ]
  },
  {
   "cell_type": "code",
   "execution_count": 3,
   "metadata": {},
   "outputs": [
    {
     "name": "stdout",
     "output_type": "stream",
     "text": [
      "10 11 12 13 14 15 16 17 18 19 20 21 22 23 24 25 26 27 28 29 30 31 32 33 34 35 36 37 38 39 40 41 42 43 44 45 46 47 48 49 50 "
     ]
    }
   ],
   "source": [
    "#print number 10 to 50\n",
    "l=10\n",
    "#condition check\n",
    "while l<=50:\n",
    "    print(l, end=\" \")\n",
    "    l+=1 #j=j+1"
   ]
  },
  {
   "cell_type": "code",
   "execution_count": 4,
   "metadata": {},
   "outputs": [
    {
     "name": "stdout",
     "output_type": "stream",
     "text": [
      "10\n",
      "12\n",
      "14\n",
      "16\n",
      "18\n",
      "20\n",
      "22\n",
      "24\n",
      "26\n",
      "28\n",
      "30\n",
      "32\n",
      "34\n",
      "36\n",
      "38\n",
      "40\n",
      "42\n",
      "44\n",
      "46\n",
      "48\n",
      "50\n"
     ]
    }
   ],
   "source": [
    "#print even number 10 to 50\n",
    "m=10\n",
    "#condition check\n",
    "while m<=50:\n",
    "    if m%2==0:\n",
    "        print(m)\n",
    "    m+=1"
   ]
  },
  {
   "cell_type": "markdown",
   "metadata": {},
   "source": [
    "## print odd numbers 15 to 30"
   ]
  },
  {
   "cell_type": "code",
   "execution_count": 5,
   "metadata": {},
   "outputs": [
    {
     "name": "stdout",
     "output_type": "stream",
     "text": [
      "15 17 19 21 23 25 27 29 "
     ]
    }
   ],
   "source": [
    "j=15\n",
    "while j<=30:\n",
    "    if j%2==1:\n",
    "        print(j, end=\" \")\n",
    "    j+=1"
   ]
  },
  {
   "cell_type": "markdown",
   "metadata": {},
   "source": [
    "## print hello 10 times using for loop and while loop\n"
   ]
  },
  {
   "cell_type": "code",
   "execution_count": 6,
   "metadata": {},
   "outputs": [
    {
     "name": "stdout",
     "output_type": "stream",
     "text": [
      "Hello Hello Hello Hello Hello Hello Hello Hello Hello Hello "
     ]
    }
   ],
   "source": [
    "#for\n",
    "for i in range(10):\n",
    "    print('Hello', end=\" \")"
   ]
  },
  {
   "cell_type": "code",
   "execution_count": 7,
   "metadata": {},
   "outputs": [],
   "source": [
    "#while"
   ]
  },
  {
   "cell_type": "markdown",
   "metadata": {},
   "source": [
    "## Write a code to print the numbers between 10 to 30 which are divisable by 5\n",
    "- while loop\n",
    "- for loop\n"
   ]
  },
  {
   "cell_type": "code",
   "execution_count": 8,
   "metadata": {},
   "outputs": [
    {
     "name": "stdout",
     "output_type": "stream",
     "text": [
      "10 15 20 25 30 "
     ]
    }
   ],
   "source": [
    "#for loop\n",
    "for i in range (10,31):\n",
    "    if i%5==0:\n",
    "        print(i, end=\" \")"
   ]
  },
  {
   "cell_type": "code",
   "execution_count": 9,
   "metadata": {},
   "outputs": [
    {
     "name": "stdout",
     "output_type": "stream",
     "text": [
      "10 15 20 25 30 "
     ]
    }
   ],
   "source": [
    "#while loop\n",
    "i=10\n",
    "while i<=30:\n",
    "    if i%5==0:\n",
    "        print(i, end=\" \")\n",
    "    i+=1"
   ]
  },
  {
   "cell_type": "markdown",
   "metadata": {},
   "source": [
    "## Letting the User Choose When to Quit"
   ]
  },
  {
   "cell_type": "code",
   "execution_count": 10,
   "metadata": {},
   "outputs": [
    {
     "name": "stdout",
     "output_type": "stream",
     "text": [
      "\n",
      "Tell me anything I will repeat. Enter 'quit' to quitfr\n",
      "The user inpout is:  fr\n",
      "\n",
      "Tell me anything I will repeat. Enter 'quit' to quitfr\n",
      "The user inpout is:  fr\n",
      "\n",
      "Tell me anything I will repeat. Enter 'quit' to quitquit\n",
      "The user inpout is:  quit\n"
     ]
    }
   ],
   "source": [
    "prompt= \"\\nTell me anything I will repeat. Enter \\'quit\\' to quit\"\n",
    "message=' ' #initialize\n",
    "while message != 'quit':\n",
    "    message=input(prompt)\n",
    "    print('The user inpout is: ', message)"
   ]
  },
  {
   "cell_type": "markdown",
   "metadata": {},
   "source": [
    "## A Flag"
   ]
  },
  {
   "cell_type": "code",
   "execution_count": 3,
   "metadata": {},
   "outputs": [
    {
     "name": "stdout",
     "output_type": "stream",
     "text": [
      "\n",
      "Tell me anything I will repeat. Enter 'quit' to quitfr\n",
      "fr\n",
      "\n",
      "Tell me anything I will repeat. Enter 'quit' to quitquit\n"
     ]
    }
   ],
   "source": [
    "prompt= \"\\nTell me anything I will repeat. Enter \\'quit\\' to quit\"\n",
    "message=' '\n",
    "active=True\n",
    "while active:\n",
    "    message=input(prompt)\n",
    "    if message=='quit':\n",
    "        active=False\n",
    "    else:\n",
    "        print(message)"
   ]
  },
  {
   "cell_type": "markdown",
   "metadata": {
    "slideshow": {
     "slide_type": "subslide"
    }
   },
   "source": [
    "### For a program that should run only as long as many conditions are true, you can define one variable that determines whether or not the entire program is active. This variable, called a `flag`, acts as a signal to the program."
   ]
  },
  {
   "cell_type": "code",
   "execution_count": 1,
   "metadata": {},
   "outputs": [
    {
     "name": "stdout",
     "output_type": "stream",
     "text": [
      "Tell me anything and I will repeat it back to you. Enter 'quit' to end the loop.hello\n",
      "hello\n",
      "Tell me anything and I will repeat it back to you. Enter 'quit' to end the loop.quit\n"
     ]
    }
   ],
   "source": [
    "prompt=\"Tell me anything and I will repeat it back to you. Enter \\'quit\\' to end the loop.\"\n",
    "# flag\n",
    "message= \" \"\n",
    "active=True\n",
    "while active:\n",
    "    message=input(prompt)\n",
    "    if message=='quit':\n",
    "        active=False # flag turned off\n",
    "    else:\n",
    "        print(message)"
   ]
  },
  {
   "cell_type": "code",
   "execution_count": null,
   "metadata": {},
   "outputs": [],
   "source": []
  },
  {
   "cell_type": "markdown",
   "metadata": {},
   "source": [
    "## Using break to Exit a Loop\n",
    "To exit a while loop immediately without running any remaining code in the\n",
    "loop, regardless of the results of any conditional test, use the break statement."
   ]
  },
  {
   "cell_type": "code",
   "execution_count": 5,
   "metadata": {},
   "outputs": [
    {
     "name": "stdout",
     "output_type": "stream",
     "text": [
      "\n",
      "Tell me friends names I will repeat. Enter 'quit' to quithello\n",
      "hello\n",
      "\n",
      "Tell me friends names I will repeat. Enter 'quit' to quithello\n",
      "hello\n",
      "\n",
      "Tell me friends names I will repeat. Enter 'quit' to quitquit\n"
     ]
    }
   ],
   "source": [
    "prompt= \"\\nTell me friends names I will repeat. Enter \\'quit\\' to quit\"\n",
    "friends=' '\n",
    "active=True\n",
    "while active:\n",
    "    friends=input(prompt)\n",
    "    if friends=='quit':\n",
    "        break\n",
    "    else:\n",
    "        print(friends)"
   ]
  },
  {
   "cell_type": "code",
   "execution_count": null,
   "metadata": {},
   "outputs": [],
   "source": []
  },
  {
   "cell_type": "markdown",
   "metadata": {},
   "source": [
    "### Guess the number"
   ]
  },
  {
   "cell_type": "code",
   "execution_count": 13,
   "metadata": {},
   "outputs": [
    {
     "name": "stdout",
     "output_type": "stream",
     "text": [
      "\n",
      "Guess a number between 1 and 10: 44\n",
      "Guess again\n",
      "\n",
      "Guess a number between 1 and 10: 6\n",
      "Guess again\n",
      "\n",
      "Guess a number between 1 and 10: 4\n",
      "Guess again\n",
      "\n",
      "Guess a number between 1 and 10: 5\n",
      "Correct guess\n"
     ]
    }
   ],
   "source": [
    "prompt= \"\\nGuess a number between 1 and 10: \"\n",
    "number=0\n",
    "active=True\n",
    "while active:\n",
    "    number=int(input(prompt))\n",
    "    if number==5:\n",
    "        print('Correct guess')\n",
    "        break\n",
    "    else:\n",
    "        print('Guess again')"
   ]
  },
  {
   "cell_type": "code",
   "execution_count": null,
   "metadata": {},
   "outputs": [],
   "source": []
  },
  {
   "cell_type": "markdown",
   "metadata": {},
   "source": [
    "### Guess the number with proper direction"
   ]
  },
  {
   "cell_type": "code",
   "execution_count": null,
   "metadata": {},
   "outputs": [],
   "source": [
    "prompt= \"\\nGuess a number between 1 and 10: \"\n",
    "number=0\n",
    "active=True\n",
    "while active:\n",
    "    number=int(input(prompt))\n",
    "    if number==5:\n",
    "        print('You have guessed correctly')\n",
    "        break\n",
    "    elif number<5:\n",
    "        print('Number is higher than current guess')\n",
    "    elif number>5 and number<=10:\n",
    "        print('Number is lower than current guess')\n",
    "    else:\n",
    "        print('Number is out of range. Guess again')"
   ]
  },
  {
   "cell_type": "code",
   "execution_count": null,
   "metadata": {},
   "outputs": [],
   "source": []
  },
  {
   "cell_type": "markdown",
   "metadata": {},
   "source": [
    "### Break with for loop\n",
    "-Print the numbers 10 to 30 and then break the loop at the number 15"
   ]
  },
  {
   "cell_type": "code",
   "execution_count": null,
   "metadata": {},
   "outputs": [],
   "source": [
    "for i in range (10,30):\n",
    "    if i==16:\n",
    "        break\n",
    "    print(i, end=' ')"
   ]
  },
  {
   "cell_type": "code",
   "execution_count": null,
   "metadata": {},
   "outputs": [],
   "source": []
  },
  {
   "cell_type": "markdown",
   "metadata": {},
   "source": [
    "### Using continue in a Loop\n",
    "- Rather than breaking out of a loop entirely without executing the rest of its code, \n",
    "- you can use the continue statement to return to the beginning of the loop based on the result of a conditional test. \n",
    "- For example, consider a loop that counts from 1 to 10 but prints only the odd numbers in that range:"
   ]
  },
  {
   "cell_type": "code",
   "execution_count": null,
   "metadata": {},
   "outputs": [],
   "source": [
    "for i in range(10,30):\n",
    "    if i==15:\n",
    "        continue\n",
    "    print(i, end=' ')"
   ]
  },
  {
   "cell_type": "code",
   "execution_count": null,
   "metadata": {},
   "outputs": [],
   "source": [
    "for i in range(1,10):\n",
    "    if i%2==0:\n",
    "        continue\n",
    "    print(i, end=' ')"
   ]
  },
  {
   "cell_type": "markdown",
   "metadata": {},
   "source": [
    "### consider a loop (while/for) that counts from 10 to 20 but prints only the even numbers in that range, use continue statement:"
   ]
  },
  {
   "cell_type": "code",
   "execution_count": null,
   "metadata": {},
   "outputs": [],
   "source": [
    "# fix this one\n",
    "#i=1\n",
    "#while i<11:\n",
    "    #if i%2==0:\n",
    "        #print(i, end='')\n",
    "    #i+=1\n",
    "    \n",
    "    \n",
    "    \n",
    "#Inside while loop a continue function will not work. It will generate an infinte loop"
   ]
  },
  {
   "cell_type": "markdown",
   "metadata": {},
   "source": [
    "### Avoiding Infinite Loops"
   ]
  },
  {
   "cell_type": "markdown",
   "metadata": {},
   "source": [
    "### Movie Tickets: A movie theater charges different ticket prices depending on a person’s age. \n",
    "- If a person is under the age of 3, the ticket is free; if they are between 3 and 12, the ticket is 10 dollar\n",
    "- if they are over age 12, the ticket is 15 dollar. \n",
    "Write a while loop in which you ask users their age, and then tell them the cost of their movie ticket."
   ]
  },
  {
   "cell_type": "code",
   "execution_count": 4,
   "metadata": {},
   "outputs": [
    {
     "name": "stdout",
     "output_type": "stream",
     "text": [
      "\n",
      "How old are you? Enter -1 to quit.10\n",
      "TIcket is $10.\n",
      "\n",
      "How old are you? Enter -1 to quit.-1\n"
     ]
    }
   ],
   "source": [
    "prompt='\\nHow old are you? Enter -1 to quit.'\n",
    "active=True\n",
    "age=0\n",
    "while active:\n",
    "    age=int(input(prompt))\n",
    "    if age==-1:\n",
    "        break\n",
    "    elif age<3:\n",
    "        print('Ticket is free.')\n",
    "    elif age<12:\n",
    "        print('TIcket is $10.')\n",
    "    else:\n",
    "        print('Ticket is $15.')"
   ]
  },
  {
   "cell_type": "code",
   "execution_count": 5,
   "metadata": {},
   "outputs": [
    {
     "data": {
      "text/plain": [
       "-1"
      ]
     },
     "execution_count": 5,
     "metadata": {},
     "output_type": "execute_result"
    }
   ],
   "source": [
    "age"
   ]
  },
  {
   "cell_type": "markdown",
   "metadata": {},
   "source": [
    "## Using a while Loop with Lists and Dictionaries"
   ]
  },
  {
   "cell_type": "markdown",
   "metadata": {},
   "source": [
    "### Moving Items from One List to Another"
   ]
  },
  {
   "cell_type": "code",
   "execution_count": 5,
   "metadata": {},
   "outputs": [
    {
     "name": "stdout",
     "output_type": "stream",
     "text": [
      "Antonia\n",
      "Diego\n",
      "Pablo\n",
      "Vicho\n",
      "Final list ['Antonia', 'Diego', 'Pablo', 'Vicho']\n",
      "Antonia is my peer\n",
      "Diego is my peer\n",
      "Pablo is my peer\n",
      "Vicho is my peer\n"
     ]
    }
   ],
   "source": [
    "# FRIENDS NAMES... move from friends to peers list\n",
    "# unpack the list\n",
    "\n",
    "friends=['Vicho','Pablo','Diego','Antonia']\n",
    "peers=[]\n",
    "hold=\" \"\n",
    "while friends:\n",
    "    hold=friends.pop()\n",
    "    print(hold)\n",
    "    peers.append(hold)\n",
    "print(f'Final list {peers}')\n",
    "\n",
    "#unpacking\n",
    "for name in peers:\n",
    "    print(f'{name} is my peer')"
   ]
  },
  {
   "cell_type": "code",
   "execution_count": null,
   "metadata": {},
   "outputs": [],
   "source": []
  },
  {
   "cell_type": "markdown",
   "metadata": {},
   "source": [
    "### Removing All Instances of Specific Values from a List"
   ]
  },
  {
   "cell_type": "code",
   "execution_count": 17,
   "metadata": {},
   "outputs": [
    {
     "name": "stdout",
     "output_type": "stream",
     "text": [
      "['dog', 'cat', 'dog', 'rabbit', 'goldfish', 'cat']\n",
      "New list: ['dog', 'dog', 'rabbit', 'goldfish']\n",
      " New list 2.0: ['rabbit', 'goldfish']\n"
     ]
    }
   ],
   "source": [
    "pets=['dog','cat','dog','rabbit','goldfish','cat']\n",
    "print(pets)\n",
    "# remove cat from list\n",
    "\n",
    "while 'cat' in pets:\n",
    "    pets.remove('cat')\n",
    "print(f'New list: {pets}')\n",
    "\n",
    "while'dog' in pets:\n",
    "    pets.remove('dog')\n",
    "print(f' New list 2.0: {pets}')"
   ]
  },
  {
   "cell_type": "code",
   "execution_count": null,
   "metadata": {},
   "outputs": [],
   "source": []
  },
  {
   "cell_type": "markdown",
   "metadata": {},
   "source": [
    "### Filling a Dictionary with User Input"
   ]
  },
  {
   "cell_type": "code",
   "execution_count": 20,
   "metadata": {},
   "outputs": [],
   "source": [
    "# ASKING user to input name as keys and fav_food as values\n"
   ]
  },
  {
   "cell_type": "code",
   "execution_count": 24,
   "metadata": {},
   "outputs": [
    {
     "name": "stdout",
     "output_type": "stream",
     "text": [
      "Your NamePablo\n",
      "Fav Foodlasagna\n",
      "Would you like to enter another entry? (yes/no)yes\n",
      "Your Namedieog\n",
      "Fav Foodarroz\n",
      "Would you like to enter another entry? (yes/no)no\n",
      "{'Pablo': 'lasagna', 'dieog': 'arroz'}\n",
      "Pablo likes to eat lasagna\n",
      "dieog likes to eat arroz\n"
     ]
    }
   ],
   "source": [
    "response={}\n",
    "#poll is a flag\n",
    "poll=True\n",
    "while poll:\n",
    "    name=input('Your Name')\n",
    "    food=input('Fav Food')\n",
    "    response.update({name:food})\n",
    "    repeat=input('Would you like to enter another entry? (yes/no)')\n",
    "    if repeat=='no':\n",
    "        poll=False\n",
    "        #or Break\n",
    "print(response)\n",
    "\n",
    "#unpacking\n",
    "for name,food in response.items():\n",
    "    print(f'{name} likes to eat {food}')"
   ]
  },
  {
   "cell_type": "markdown",
   "metadata": {},
   "source": [
    "## Shopping list\n",
    "### Create a dictionary with 5 items and the quantity\n",
    "- key is item name\n",
    "- value is quantity"
   ]
  },
  {
   "cell_type": "code",
   "execution_count": 25,
   "metadata": {},
   "outputs": [
    {
     "name": "stdout",
     "output_type": "stream",
     "text": [
      "What are you buying?apples\n",
      "How many/much5\n",
      "Would you like to enter another entry? (yes/no)yes\n",
      "What are you buying?avocado\n",
      "How many/much7\n",
      "Would you like to enter another entry? (yes/no)yes\n",
      "What are you buying?chicken\n",
      "How many/much3\n",
      "Would you like to enter another entry? (yes/no)no\n",
      "{'apples': '5', 'avocado': '7', 'chicken': '3'}\n",
      "apples likes to eat 5\n",
      "avocado likes to eat 7\n",
      "chicken likes to eat 3\n"
     ]
    }
   ],
   "source": [
    "grocery={}\n",
    "\n",
    "active=True\n",
    "while active:\n",
    "    item=input('What are you buying?')\n",
    "    quantity=input('How many/much')\n",
    "    grocery.update({item:quantity})\n",
    "    repeat=input('Would you like to enter another entry? (yes/no)')\n",
    "    if repeat=='no':\n",
    "        break\n",
    "print(grocery)\n",
    "\n",
    "#unpacking\n",
    "for item,quantity in grocery.items():\n",
    "    print(f'{item} likes to eat {quantity}')"
   ]
  },
  {
   "cell_type": "code",
   "execution_count": null,
   "metadata": {},
   "outputs": [],
   "source": []
  },
  {
   "cell_type": "markdown",
   "metadata": {},
   "source": [
    "## Deli: Make a list called sandwich_orders and fill it with the names of various sandwiches. \n",
    "- Then make an empty list called finished_sandwiches. \n",
    "- Loop through the list of sandwich orders and print a message for each order, such as I made your tuna sandwich. \n",
    "- As each sandwich is made, move it to the list of finished sandwiches. \n",
    "- After all the sandwiches have been made, print a message listing each sandwich that was made."
   ]
  },
  {
   "cell_type": "code",
   "execution_count": 18,
   "metadata": {},
   "outputs": [],
   "source": [
    "sandwich_order=['Club','Chicken','Beef','Veggie']\n",
    "finished_sandwiches=[]\n",
    "current_sandwich=\" \""
   ]
  },
  {
   "cell_type": "code",
   "execution_count": 19,
   "metadata": {},
   "outputs": [
    {
     "name": "stdout",
     "output_type": "stream",
     "text": [
      "Working on Veggie sandwich.\n",
      "Working on Beef sandwich.\n",
      "Working on Chicken sandwich.\n",
      "Working on Club sandwich.\n",
      "I made your Veggie sandwich\n",
      "I made your Beef sandwich\n",
      "I made your Chicken sandwich\n",
      "I made your Club sandwich\n"
     ]
    }
   ],
   "source": [
    "while sandwich_order:\n",
    "    current_sandwich=sandwich_order.pop()\n",
    "    print(f'Working on {current_sandwich} sandwich.')\n",
    "    finished_sandwiches.append(current_sandwich)\n",
    "        \n",
    "for sandwich in finished_sandwiches:\n",
    "    print(f'I made your {sandwich} sandwich')"
   ]
  },
  {
   "cell_type": "code",
   "execution_count": null,
   "metadata": {},
   "outputs": [],
   "source": []
  },
  {
   "cell_type": "markdown",
   "metadata": {},
   "source": [
    "## Write a program to print n natural number in descending order using a while loop.\n"
   ]
  },
  {
   "cell_type": "code",
   "execution_count": 26,
   "metadata": {},
   "outputs": [
    {
     "name": "stdout",
     "output_type": "stream",
     "text": [
      "Enter the value of n: 10\n",
      "10\n",
      "9\n",
      "8\n",
      "7\n",
      "6\n",
      "5\n",
      "4\n",
      "3\n",
      "2\n",
      "1\n"
     ]
    }
   ],
   "source": [
    "n=int(input('Enter the value of n: '))\n",
    "while n!=0:\n",
    "    print(n)\n",
    "    n=n-1"
   ]
  },
  {
   "cell_type": "code",
   "execution_count": 27,
   "metadata": {},
   "outputs": [
    {
     "name": "stdout",
     "output_type": "stream",
     "text": [
      "Enter the value of n: 20\n",
      "20\n",
      "19\n",
      "18\n",
      "17\n",
      "16\n",
      "15\n",
      "14\n",
      "13\n",
      "12\n",
      "11\n",
      "10\n",
      "9\n",
      "8\n",
      "7\n",
      "6\n"
     ]
    }
   ],
   "source": [
    "n=int(input('Enter the value of n: '))\n",
    "while n!=5:\n",
    "    print(n)\n",
    "    n=n-1"
   ]
  },
  {
   "cell_type": "markdown",
   "metadata": {},
   "source": [
    "## Factorial of a number"
   ]
  },
  {
   "cell_type": "code",
   "execution_count": 8,
   "metadata": {},
   "outputs": [
    {
     "name": "stdout",
     "output_type": "stream",
     "text": [
      "Enter number: 4\n",
      "24\n"
     ]
    }
   ],
   "source": [
    "number=int(input('Enter number: '))\n",
    "fact=1\n",
    "while(number):\n",
    "    fact=fact*number\n",
    "    number=number-1\n",
    "print(fact)"
   ]
  },
  {
   "cell_type": "code",
   "execution_count": null,
   "metadata": {},
   "outputs": [],
   "source": []
  },
  {
   "cell_type": "markdown",
   "metadata": {},
   "source": [
    "## Take 10 integers from keyboard using loop and print their sum and average value on the screen"
   ]
  },
  {
   "cell_type": "code",
   "execution_count": 9,
   "metadata": {},
   "outputs": [
    {
     "name": "stdout",
     "output_type": "stream",
     "text": [
      "Enter number: 2\n",
      "Enter number: 4\n",
      "Enter number: 8\n",
      "Enter number: 16\n",
      "Enter number: 3\n",
      "Enter number: 9\n",
      "Enter number: 27\n",
      "Enter number: 4\n",
      "Enter number: 16\n",
      "Enter number: 5\n",
      "Enter number: 4\n",
      "average is 9.8\n"
     ]
    }
   ],
   "source": [
    "sum = 0\n",
    "i = 0\n",
    "while i<=10:\n",
    "  num = int(input(\"Enter number: \"))\n",
    "  sum = sum + num\n",
    "  i = i+1\n",
    "print (\"average is\",sum/10)"
   ]
  },
  {
   "cell_type": "code",
   "execution_count": null,
   "metadata": {},
   "outputs": [],
   "source": []
  },
  {
   "attachments": {
    "image.png": {
     "image/png": "[encoded data removed]"
    }
   },
   "cell_type": "markdown",
   "metadata": {},
   "source": [
    "## Print the following patterns using loop :\n",
    "![image.png](attachment:image.png)"
   ]
  },
  {
   "cell_type": "code",
   "execution_count": 10,
   "metadata": {},
   "outputs": [
    {
     "name": "stdout",
     "output_type": "stream",
     "text": [
      "*\n",
      "**\n",
      "***\n",
      "****\n",
      "*****\n",
      "******\n",
      "*******\n",
      "********\n",
      "*********\n",
      "**********\n"
     ]
    }
   ],
   "source": [
    "i=1\n",
    "while i<=10:\n",
    "    print(i*\"*\")\n",
    "    i+=1"
   ]
  },
  {
   "cell_type": "code",
   "execution_count": null,
   "metadata": {},
   "outputs": [],
   "source": []
  },
  {
   "cell_type": "markdown",
   "metadata": {},
   "source": [
    "## Write a program to display the first 7 multiples of 7.\n"
   ]
  },
  {
   "cell_type": "code",
   "execution_count": 11,
   "metadata": {},
   "outputs": [
    {
     "name": "stdout",
     "output_type": "stream",
     "text": [
      "7 14 21 28 35 42 49 "
     ]
    }
   ],
   "source": [
    "count=0\n",
    "for i in range (1,100):\n",
    "    if i%7==0:\n",
    "        print(i, end= \" \")\n",
    "        count=count+1\n",
    "        #print(\"count\",count)\n",
    "        if count==7:\n",
    "            break"
   ]
  },
  {
   "cell_type": "code",
   "execution_count": null,
   "metadata": {},
   "outputs": [],
   "source": []
  },
  {
   "cell_type": "markdown",
   "metadata": {},
   "source": [
    "## Write a program that appends the square of each number to a new list."
   ]
  },
  {
   "cell_type": "code",
   "execution_count": 12,
   "metadata": {},
   "outputs": [
    {
     "name": "stdout",
     "output_type": "stream",
     "text": [
      "[1, 4, 9, 16, 25]\n"
     ]
    }
   ],
   "source": [
    "x=[1,2,3,4,5]\n",
    "output=[]\n",
    "\n",
    "for i in x:\n",
    "    output.append(i**2)\n",
    "print(output)"
   ]
  },
  {
   "cell_type": "code",
   "execution_count": null,
   "metadata": {},
   "outputs": [],
   "source": []
  },
  {
   "cell_type": "markdown",
   "metadata": {},
   "source": [
    "## Separate positive and negative number from a list.\n",
    "x = [23,12,-4,23,-9,21,3,-45,-8]"
   ]
  },
  {
   "cell_type": "code",
   "execution_count": 13,
   "metadata": {},
   "outputs": [
    {
     "name": "stdout",
     "output_type": "stream",
     "text": [
      "positive list [23, 12, 23, 21, 3]\n",
      "negative list [-4, -9, -45, -8]\n"
     ]
    }
   ],
   "source": [
    "x = [23,12,-4,23,-9,21,3,-45,-8]\n",
    "positive=[]\n",
    "negative=[]\n",
    "for i in x:\n",
    "    if i>=0:\n",
    "        positive.append(i)\n",
    "    else:\n",
    "        negative.append(i)\n",
    "print(\"positive list\",positive)\n",
    "print(\"negative list\", negative)"
   ]
  },
  {
   "cell_type": "code",
   "execution_count": null,
   "metadata": {},
   "outputs": [],
   "source": []
  }
 ],
 "metadata": {
  "celltoolbar": "Slideshow",
  "kernelspec": {
   "display_name": "Python 3 (ipykernel)",
   "language": "python",
   "name": "python3"
  },
  "language_info": {
   "codemirror_mode": {
    "name": "ipython",
    "version": 3
   },
   "file_extension": ".py",
   "mimetype": "text/x-python",
   "name": "python",
   "nbconvert_exporter": "python",
   "pygments_lexer": "ipython3",
   "version": "3.11.4"
  }
 },
 "nbformat": 4,
 "nbformat_minor": 2
}
